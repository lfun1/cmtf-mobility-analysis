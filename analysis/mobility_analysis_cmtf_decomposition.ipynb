{
 "cells": [
  {
   "cell_type": "markdown",
   "id": "8b348504",
   "metadata": {},
   "source": [
    "## CMTF decomposition for Rank-4 CMTF models of SafeGraph’s mobility data using TensorLy CMTF-ALS"
   ]
  },
  {
   "cell_type": "code",
   "execution_count": 1,
   "id": "522b8270",
   "metadata": {},
   "outputs": [],
   "source": [
    "# Import general packages\n",
    "import numpy as np\n",
    "import scipy\n",
    "import pandas as pd"
   ]
  },
  {
   "cell_type": "code",
   "execution_count": 2,
   "id": "53557311",
   "metadata": {},
   "outputs": [],
   "source": [
    "# Import CMTF specific packages\n",
    "import tensorly as tl\n",
    "import xarray\n",
    "import tlviz"
   ]
  },
  {
   "cell_type": "code",
   "execution_count": 3,
   "id": "fea7c235",
   "metadata": {},
   "outputs": [],
   "source": [
    "# Packages for spatial, temporal data analysis\n",
    "\n",
    "#import geopandas as gpd\n",
    "#import fiona\n",
    "\n",
    "import matplotlib.pyplot as plt\n",
    "import matplotlib.dates as mdates\n",
    "import matplotlib.patches as mpatches\n",
    "import matplotlib.lines as mlines\n",
    "\n",
    "from datetime import datetime\n",
    "from datetime import date\n",
    "\n",
    "#from shapely.geometry import box\n",
    "#from mpl_toolkits.axes_grid1 import make_axes_locatable"
   ]
  },
  {
   "cell_type": "markdown",
   "id": "e0217442",
   "metadata": {},
   "source": [
    "#### Load Data"
   ]
  },
  {
   "cell_type": "code",
   "execution_count": 7,
   "id": "b9749cf3",
   "metadata": {},
   "outputs": [],
   "source": [
    "# Loading tensor, matrix\n",
    "tensor_imported = np.loadtxt('mobility_data_final_500_tensor.csv', delimiter=\",\")\n",
    "mobility_matrix = np.loadtxt('mobility_data_final_500_matrix.csv', delimiter=\",\")\n",
    "\n",
    "# Folding back into tensor\n",
    "mobility_tensor = tl.fold(tensor_imported, 0, (500, 12, 53))"
   ]
  },
  {
   "cell_type": "markdown",
   "id": "b8caedf5",
   "metadata": {},
   "source": [
    "#### Rank-4 CMTF decomposition (optimal number of components/rank)"
   ]
  },
  {
   "cell_type": "code",
   "execution_count": 8,
   "id": "2d1c37f5",
   "metadata": {},
   "outputs": [],
   "source": [
    "# Import TensorLy CMTF-ALS\n",
    "from tensorly.decomposition._cmtf_als import coupled_matrix_tensor_3d_factorization as cmtf_als\n",
    "tl.set_backend('numpy')"
   ]
  },
  {
   "cell_type": "code",
   "execution_count": 9,
   "id": "a03196ec",
   "metadata": {},
   "outputs": [
    {
     "name": "stderr",
     "output_type": "stream",
     "text": [
      "C:\\Users\\lisaf\\anaconda3\\envs\\cmtf-mobility-analysis\\Lib\\site-packages\\tensorly\\decomposition\\_cmtf_als.py:128: UserWarning: Reached maximum iteration number without convergance.\n",
      "  warnings.warn(\"Reached maximum iteration number without convergance.\")\n"
     ]
    }
   ],
   "source": [
    "# Rank-4 CMTF\n",
    "    # Warning: \"Reached maximum iteration number without convergance.\"\n",
    "tensor_factors, matrix_factors, errors = cmtf_als(mobility_tensor, mobility_matrix, 4, init=\"svd\")"
   ]
  },
  {
   "cell_type": "code",
   "execution_count": 11,
   "id": "34960391",
   "metadata": {},
   "outputs": [],
   "source": [
    "# Save rank-4 CMTF\n",
    "\n",
    "def save_factors(tensor_factors, matrix_factors, rank):\n",
    "    for i in range(3):\n",
    "        np.savetxt(f'mobility_data_tensor_rank{rank}_factor{i+1}.csv', tensor_factors[1][i], delimiter=',')\n",
    "    for j in range(2):\n",
    "        np.savetxt(f'mobility_data_matrix_rank{rank}_factor{j+1}.csv', matrix_factors[1][j], delimiter=',')"
   ]
  },
  {
   "cell_type": "code",
   "execution_count": 12,
   "id": "43404ae7",
   "metadata": {},
   "outputs": [],
   "source": [
    "#save_factors(tensor_factors, matrix_factors, 4) # Saved"
   ]
  }
 ],
 "metadata": {
  "kernelspec": {
   "display_name": "Python 3 (ipykernel)",
   "language": "python",
   "name": "python3"
  },
  "language_info": {
   "codemirror_mode": {
    "name": "ipython",
    "version": 3
   },
   "file_extension": ".py",
   "mimetype": "text/x-python",
   "name": "python",
   "nbconvert_exporter": "python",
   "pygments_lexer": "ipython3",
   "version": "3.11.0"
  }
 },
 "nbformat": 4,
 "nbformat_minor": 5
}
