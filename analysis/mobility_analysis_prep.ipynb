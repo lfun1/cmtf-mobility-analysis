{
 "cells": [
  {
   "cell_type": "markdown",
   "id": "7173b730",
   "metadata": {},
   "source": [
    "## Processing Safegraph Mobily Data and Converting it to a tensor and matrix"
   ]
  },
  {
   "cell_type": "markdown",
   "id": "f3c959d5",
   "metadata": {},
   "source": [
    "### Preparing Real-World Mobility Data and converting it to a Tensor and Matrix\n",
    "\n",
    "- Processing and binning mobility data\n",
    "- Converting binned mobility data into tensor and matrix"
   ]
  },
  {
   "cell_type": "code",
   "execution_count": 1,
   "id": "4414a60f",
   "metadata": {},
   "outputs": [],
   "source": [
    "import numpy as np\n",
    "import pandas as pd\n",
    "import xarray\n",
    "import tensorly as tl"
   ]
  },
  {
   "cell_type": "code",
   "execution_count": 2,
   "id": "9e3644bc",
   "metadata": {},
   "outputs": [],
   "source": [
    "# download geopandas before running\n",
    "import geopandas as gpd\n",
    "from shapely.geometry import Point"
   ]
  },
  {
   "cell_type": "code",
   "execution_count": 3,
   "id": "e9286d69",
   "metadata": {},
   "outputs": [],
   "source": [
    "# datetime\n",
    "import datetime"
   ]
  },
  {
   "cell_type": "code",
   "execution_count": 4,
   "id": "767b9d31",
   "metadata": {},
   "outputs": [],
   "source": [
    "# load data into DataFrame\n",
    "df_path = \"mobility_data_merged.csv\"\n",
    "df = pd.read_csv(df_path)"
   ]
  },
  {
   "cell_type": "code",
   "execution_count": 5,
   "id": "8c4e3a83",
   "metadata": {
    "scrolled": true
   },
   "outputs": [
    {
     "data": {
      "text/html": [
       "<div>\n",
       "<style scoped>\n",
       "    .dataframe tbody tr th:only-of-type {\n",
       "        vertical-align: middle;\n",
       "    }\n",
       "\n",
       "    .dataframe tbody tr th {\n",
       "        vertical-align: top;\n",
       "    }\n",
       "\n",
       "    .dataframe thead th {\n",
       "        text-align: right;\n",
       "    }\n",
       "</style>\n",
       "<table border=\"1\" class=\"dataframe\">\n",
       "  <thead>\n",
       "    <tr style=\"text-align: right;\">\n",
       "      <th></th>\n",
       "      <th>poi_cbg</th>\n",
       "      <th>dt</th>\n",
       "      <th>week</th>\n",
       "      <th>raw_visit_counts</th>\n",
       "      <th>dist_to_fire_m</th>\n",
       "      <th>poi_cnt</th>\n",
       "      <th>pop2019</th>\n",
       "    </tr>\n",
       "  </thead>\n",
       "  <tbody>\n",
       "    <tr>\n",
       "      <th>0</th>\n",
       "      <td>60290033051</td>\n",
       "      <td>2018-12-31</td>\n",
       "      <td>1</td>\n",
       "      <td>172</td>\n",
       "      <td>26615.418910</td>\n",
       "      <td>51</td>\n",
       "      <td>1393</td>\n",
       "    </tr>\n",
       "    <tr>\n",
       "      <th>1</th>\n",
       "      <td>60290033051</td>\n",
       "      <td>2019-01-07</td>\n",
       "      <td>2</td>\n",
       "      <td>329</td>\n",
       "      <td>26615.418910</td>\n",
       "      <td>51</td>\n",
       "      <td>1393</td>\n",
       "    </tr>\n",
       "    <tr>\n",
       "      <th>2</th>\n",
       "      <td>60290033051</td>\n",
       "      <td>2019-01-14</td>\n",
       "      <td>3</td>\n",
       "      <td>244</td>\n",
       "      <td>26615.418910</td>\n",
       "      <td>51</td>\n",
       "      <td>1393</td>\n",
       "    </tr>\n",
       "    <tr>\n",
       "      <th>3</th>\n",
       "      <td>60290033051</td>\n",
       "      <td>2019-01-21</td>\n",
       "      <td>4</td>\n",
       "      <td>313</td>\n",
       "      <td>26615.418910</td>\n",
       "      <td>51</td>\n",
       "      <td>1393</td>\n",
       "    </tr>\n",
       "    <tr>\n",
       "      <th>4</th>\n",
       "      <td>60290033051</td>\n",
       "      <td>2019-01-28</td>\n",
       "      <td>5</td>\n",
       "      <td>274</td>\n",
       "      <td>26615.418910</td>\n",
       "      <td>51</td>\n",
       "      <td>1393</td>\n",
       "    </tr>\n",
       "    <tr>\n",
       "      <th>...</th>\n",
       "      <td>...</td>\n",
       "      <td>...</td>\n",
       "      <td>...</td>\n",
       "      <td>...</td>\n",
       "      <td>...</td>\n",
       "      <td>...</td>\n",
       "      <td>...</td>\n",
       "    </tr>\n",
       "    <tr>\n",
       "      <th>986273</th>\n",
       "      <td>61110085003</td>\n",
       "      <td>2021-06-07</td>\n",
       "      <td>23</td>\n",
       "      <td>6901</td>\n",
       "      <td>8958.938209</td>\n",
       "      <td>477</td>\n",
       "      <td>3340</td>\n",
       "    </tr>\n",
       "    <tr>\n",
       "      <th>986274</th>\n",
       "      <td>61110085003</td>\n",
       "      <td>2021-06-14</td>\n",
       "      <td>24</td>\n",
       "      <td>6997</td>\n",
       "      <td>8958.938209</td>\n",
       "      <td>477</td>\n",
       "      <td>3340</td>\n",
       "    </tr>\n",
       "    <tr>\n",
       "      <th>986275</th>\n",
       "      <td>61110085003</td>\n",
       "      <td>2021-06-21</td>\n",
       "      <td>25</td>\n",
       "      <td>7166</td>\n",
       "      <td>8958.938209</td>\n",
       "      <td>477</td>\n",
       "      <td>3340</td>\n",
       "    </tr>\n",
       "    <tr>\n",
       "      <th>986276</th>\n",
       "      <td>61110085003</td>\n",
       "      <td>2021-06-28</td>\n",
       "      <td>26</td>\n",
       "      <td>6934</td>\n",
       "      <td>8958.938209</td>\n",
       "      <td>477</td>\n",
       "      <td>3340</td>\n",
       "    </tr>\n",
       "    <tr>\n",
       "      <th>986277</th>\n",
       "      <td>61110085003</td>\n",
       "      <td>2021-07-05</td>\n",
       "      <td>27</td>\n",
       "      <td>7100</td>\n",
       "      <td>8958.938209</td>\n",
       "      <td>477</td>\n",
       "      <td>3340</td>\n",
       "    </tr>\n",
       "  </tbody>\n",
       "</table>\n",
       "<p>986278 rows × 7 columns</p>\n",
       "</div>"
      ],
      "text/plain": [
       "            poi_cbg          dt  week  raw_visit_counts  dist_to_fire_m  \\\n",
       "0       60290033051  2018-12-31     1               172    26615.418910   \n",
       "1       60290033051  2019-01-07     2               329    26615.418910   \n",
       "2       60290033051  2019-01-14     3               244    26615.418910   \n",
       "3       60290033051  2019-01-21     4               313    26615.418910   \n",
       "4       60290033051  2019-01-28     5               274    26615.418910   \n",
       "...             ...         ...   ...               ...             ...   \n",
       "986273  61110085003  2021-06-07    23              6901     8958.938209   \n",
       "986274  61110085003  2021-06-14    24              6997     8958.938209   \n",
       "986275  61110085003  2021-06-21    25              7166     8958.938209   \n",
       "986276  61110085003  2021-06-28    26              6934     8958.938209   \n",
       "986277  61110085003  2021-07-05    27              7100     8958.938209   \n",
       "\n",
       "        poi_cnt  pop2019  \n",
       "0            51     1393  \n",
       "1            51     1393  \n",
       "2            51     1393  \n",
       "3            51     1393  \n",
       "4            51     1393  \n",
       "...         ...      ...  \n",
       "986273      477     3340  \n",
       "986274      477     3340  \n",
       "986275      477     3340  \n",
       "986276      477     3340  \n",
       "986277      477     3340  \n",
       "\n",
       "[986278 rows x 7 columns]"
      ]
     },
     "execution_count": 5,
     "metadata": {},
     "output_type": "execute_result"
    }
   ],
   "source": [
    "df"
   ]
  },
  {
   "cell_type": "markdown",
   "id": "e6e4ccf6",
   "metadata": {},
   "source": [
    "### Adjusting mobility data\n",
    "- tensor modes: cbg_id, month #, week #\n",
    "    - Only around 500 cbg_id around central LA\n",
    "    - Normalized coordinates scaled between 0 and 1, take their average\n",
    "- matrix modes: same cbg_id and pop2019, poi_cnt"
   ]
  },
  {
   "cell_type": "code",
   "execution_count": 6,
   "id": "2415e0b9",
   "metadata": {},
   "outputs": [],
   "source": [
    "# Add GEOID to df (only run once so not too many zeros are added)\n",
    "\n",
    "for i in range(0, len(df)):\n",
    "    if (str(df.at[i,'poi_cbg'])[0] != '0'):\n",
    "        df.at[i,'poi_cbg'] = \"0\" + str(df.at[i,'poi_cbg'])"
   ]
  },
  {
   "cell_type": "code",
   "execution_count": 7,
   "id": "f3cdf00b",
   "metadata": {},
   "outputs": [],
   "source": [
    "geo_df = gpd.read_file('la_fire_cbg_30000m.geojson', dtype={'GEOID':'str'})"
   ]
  },
  {
   "cell_type": "code",
   "execution_count": 8,
   "id": "63c26f04",
   "metadata": {},
   "outputs": [
    {
     "data": {
      "text/html": [
       "<div>\n",
       "<style scoped>\n",
       "    .dataframe tbody tr th:only-of-type {\n",
       "        vertical-align: middle;\n",
       "    }\n",
       "\n",
       "    .dataframe tbody tr th {\n",
       "        vertical-align: top;\n",
       "    }\n",
       "\n",
       "    .dataframe thead th {\n",
       "        text-align: right;\n",
       "    }\n",
       "</style>\n",
       "<table border=\"1\" class=\"dataframe\">\n",
       "  <thead>\n",
       "    <tr style=\"text-align: right;\">\n",
       "      <th></th>\n",
       "      <th>STATEFP</th>\n",
       "      <th>COUNTYFP</th>\n",
       "      <th>TRACTCE</th>\n",
       "      <th>BLKGRPCE</th>\n",
       "      <th>GEOID</th>\n",
       "      <th>NAMELSAD</th>\n",
       "      <th>MTFCC</th>\n",
       "      <th>FUNCSTAT</th>\n",
       "      <th>ALAND</th>\n",
       "      <th>AWATER</th>\n",
       "      <th>INTPTLAT</th>\n",
       "      <th>INTPTLON</th>\n",
       "      <th>geometry</th>\n",
       "    </tr>\n",
       "  </thead>\n",
       "  <tbody>\n",
       "    <tr>\n",
       "      <th>0</th>\n",
       "      <td>06</td>\n",
       "      <td>111</td>\n",
       "      <td>007506</td>\n",
       "      <td>5</td>\n",
       "      <td>061110075065</td>\n",
       "      <td>Block Group 5</td>\n",
       "      <td>G5030</td>\n",
       "      <td>S</td>\n",
       "      <td>469020</td>\n",
       "      <td>15988</td>\n",
       "      <td>+34.2526098</td>\n",
       "      <td>-118.7395930</td>\n",
       "      <td>MULTIPOLYGON (((-118.74496 34.25722, -118.7445...</td>\n",
       "    </tr>\n",
       "    <tr>\n",
       "      <th>1</th>\n",
       "      <td>06</td>\n",
       "      <td>065</td>\n",
       "      <td>030104</td>\n",
       "      <td>2</td>\n",
       "      <td>060650301042</td>\n",
       "      <td>Block Group 2</td>\n",
       "      <td>G5030</td>\n",
       "      <td>S</td>\n",
       "      <td>858394</td>\n",
       "      <td>0</td>\n",
       "      <td>+33.9993465</td>\n",
       "      <td>-117.3660904</td>\n",
       "      <td>MULTIPOLYGON (((-117.37605 34.00218, -117.3760...</td>\n",
       "    </tr>\n",
       "    <tr>\n",
       "      <th>2</th>\n",
       "      <td>06</td>\n",
       "      <td>065</td>\n",
       "      <td>031501</td>\n",
       "      <td>5</td>\n",
       "      <td>060650315015</td>\n",
       "      <td>Block Group 5</td>\n",
       "      <td>G5030</td>\n",
       "      <td>S</td>\n",
       "      <td>233796</td>\n",
       "      <td>0</td>\n",
       "      <td>+33.9331513</td>\n",
       "      <td>-117.4280261</td>\n",
       "      <td>MULTIPOLYGON (((-117.43166 33.93288, -117.4313...</td>\n",
       "    </tr>\n",
       "    <tr>\n",
       "      <th>3</th>\n",
       "      <td>06</td>\n",
       "      <td>111</td>\n",
       "      <td>007512</td>\n",
       "      <td>2</td>\n",
       "      <td>061110075122</td>\n",
       "      <td>Block Group 2</td>\n",
       "      <td>G5030</td>\n",
       "      <td>S</td>\n",
       "      <td>925075</td>\n",
       "      <td>51577</td>\n",
       "      <td>+34.2580996</td>\n",
       "      <td>-118.7381322</td>\n",
       "      <td>MULTIPOLYGON (((-118.74388 34.26011, -118.7438...</td>\n",
       "    </tr>\n",
       "    <tr>\n",
       "      <th>4</th>\n",
       "      <td>06</td>\n",
       "      <td>037</td>\n",
       "      <td>187200</td>\n",
       "      <td>2</td>\n",
       "      <td>060371872002</td>\n",
       "      <td>Block Group 2</td>\n",
       "      <td>G5030</td>\n",
       "      <td>S</td>\n",
       "      <td>543859</td>\n",
       "      <td>8150</td>\n",
       "      <td>+34.1069009</td>\n",
       "      <td>-118.2493596</td>\n",
       "      <td>MULTIPOLYGON (((-118.25704 34.10773, -118.2566...</td>\n",
       "    </tr>\n",
       "  </tbody>\n",
       "</table>\n",
       "</div>"
      ],
      "text/plain": [
       "  STATEFP COUNTYFP TRACTCE BLKGRPCE         GEOID       NAMELSAD  MTFCC  \\\n",
       "0      06      111  007506        5  061110075065  Block Group 5  G5030   \n",
       "1      06      065  030104        2  060650301042  Block Group 2  G5030   \n",
       "2      06      065  031501        5  060650315015  Block Group 5  G5030   \n",
       "3      06      111  007512        2  061110075122  Block Group 2  G5030   \n",
       "4      06      037  187200        2  060371872002  Block Group 2  G5030   \n",
       "\n",
       "  FUNCSTAT   ALAND  AWATER     INTPTLAT      INTPTLON  \\\n",
       "0        S  469020   15988  +34.2526098  -118.7395930   \n",
       "1        S  858394       0  +33.9993465  -117.3660904   \n",
       "2        S  233796       0  +33.9331513  -117.4280261   \n",
       "3        S  925075   51577  +34.2580996  -118.7381322   \n",
       "4        S  543859    8150  +34.1069009  -118.2493596   \n",
       "\n",
       "                                            geometry  \n",
       "0  MULTIPOLYGON (((-118.74496 34.25722, -118.7445...  \n",
       "1  MULTIPOLYGON (((-117.37605 34.00218, -117.3760...  \n",
       "2  MULTIPOLYGON (((-117.43166 33.93288, -117.4313...  \n",
       "3  MULTIPOLYGON (((-118.74388 34.26011, -118.7438...  \n",
       "4  MULTIPOLYGON (((-118.25704 34.10773, -118.2566...  "
      ]
     },
     "execution_count": 8,
     "metadata": {},
     "output_type": "execute_result"
    }
   ],
   "source": [
    "geo_df.head()"
   ]
  },
  {
   "cell_type": "markdown",
   "id": "e62a8a43",
   "metadata": {},
   "source": [
    "#### Narrow down to 500 CBG_ID around Central Los Angeles"
   ]
  },
  {
   "cell_type": "code",
   "execution_count": 15,
   "id": "e4c3b0eb",
   "metadata": {
    "scrolled": false
   },
   "outputs": [
    {
     "data": {
      "image/png": "[encoded data removed]",
      "text/plain": [
       "<Figure size 640x480 with 1 Axes>"
      ]
     },
     "metadata": {},
     "output_type": "display_data"
    }
   ],
   "source": [
    "from shapely.geometry import Point\n",
    "\n",
    "# Circle to define geographic boundaries around LA\n",
    "LA_lat, LA_lon = 34.0522, -118.2437 # LA coordinates\n",
    "\n",
    "point_gdf = gpd.GeoDataFrame(index=[0], crs=\"EPSG:4326\", geometry=[Point(LA_lon, LA_lat)])\n",
    "point_gdf.plot()\n",
    "\n",
    "point_gdf = point_gdf.to_crs(\"EPSG:3857\")"
   ]
  },
  {
   "cell_type": "code",
   "execution_count": 16,
   "id": "2fa64942",
   "metadata": {
    "scrolled": true
   },
   "outputs": [
    {
     "name": "stdout",
     "output_type": "stream",
     "text": [
      "POINT (-13162828.473512601 4035813.3662658855)\n"
     ]
    }
   ],
   "source": [
    "print(point_gdf.geometry[0])"
   ]
  },
  {
   "cell_type": "code",
   "execution_count": 73,
   "id": "ff89b17b",
   "metadata": {},
   "outputs": [
    {
     "name": "stdout",
     "output_type": "stream",
     "text": [
      "             GEOID     distance\n",
      "7165  060372074001     0.000000\n",
      "269   060372062002   173.696307\n",
      "3499  060372073022   183.272696\n",
      "2565  060372073012   222.518685\n",
      "6352  060372075021   466.776618\n",
      "...            ...          ...\n",
      "2529  060372213042  7588.202994\n",
      "4680  060371916102  7593.197253\n",
      "109   060372131002  7622.103123\n",
      "72    060372115002  7622.177374\n",
      "2473  060372017001  7651.594800\n",
      "\n",
      "[502 rows x 2 columns]\n"
     ]
    }
   ],
   "source": [
    "# Change from geographic CRS to projected CRS for more accuracy to calculate distance\n",
    "#LA_shp = LA_shp.to_crs(\"NAD83 / California Albers\") # Inaccurate\n",
    "LA_shp = geo_df.to_crs(\"EPSG:3857\")\n",
    "\n",
    "# Calculate distance of each CBG from the LA_point\n",
    "LA_shp['distance'] = LA_shp.geometry.distance(point_gdf.geometry[0])\n",
    "\n",
    "# Sort CBGs by distance from center\n",
    "LA_shp = LA_shp.sort_values(by='distance')\n",
    "\n",
    "# Select 500 closest CBGs\n",
    "selected_LA_shp = LA_shp.head(502)\n",
    "\n",
    "print(selected_LA_shp[['GEOID', 'distance']])\n",
    "\n",
    "## Note: 0.009 = 1 km * 50 --> 0.45 km"
   ]
  },
  {
   "cell_type": "code",
   "execution_count": 74,
   "id": "b9fc5032",
   "metadata": {},
   "outputs": [
    {
     "data": {
      "text/plain": [
       "(502, 14)"
      ]
     },
     "execution_count": 74,
     "metadata": {},
     "output_type": "execute_result"
    }
   ],
   "source": [
    "# LA_df contains all 500 selected CBGs closest to central LA\n",
    "LA_df = selected_LA_shp.rename(columns={'GEOID': 'poi_cbg'})\n",
    "LA_df.shape"
   ]
  },
  {
   "cell_type": "markdown",
   "id": "0cd2f855",
   "metadata": {},
   "source": [
    "### Data Frame to tensor/matrix v2\n",
    "\n",
    "- Tensor: `poi_cbg, month, week`\n",
    "    - $(500, 12, 53)$ tensor\n",
    "        - Subtract from month and week index (so 0-11, 0-51) if needed\n",
    "    - [Memory Error] $(7660, 3, 53)$ tensor\n",
    "- Matrix: `poi_cbg` mode, `dist_to_fire_m, poi_cnt, pop2019`\n",
    "    - $(500, 3)$ matrix\n",
    "    - [Memory Error] $(7660, 3)$ matrix\n",
    "    - Do NOT `bin dist_to_fire_m` values b/c they are elements of matrix"
   ]
  },
  {
   "cell_type": "code",
   "execution_count": 32,
   "id": "11868f3b",
   "metadata": {},
   "outputs": [],
   "source": [
    "df['date'] = pd.Series( datetime.datetime.strptime(df.at[i, 'dt'], \"%Y-%m-%d\") for i in range(len(df)) )"
   ]
  },
  {
   "cell_type": "code",
   "execution_count": 33,
   "id": "a64d470e",
   "metadata": {},
   "outputs": [],
   "source": [
    "# Run once to move 12-31 to 01-01\n",
    "#df['date'] += datetime.timedelta(days=1) # Done"
   ]
  },
  {
   "cell_type": "code",
   "execution_count": 88,
   "id": "2cf383ae",
   "metadata": {},
   "outputs": [],
   "source": [
    "# Add month column for tensor\n",
    "df['month'] = pd.Series( df.at[i, 'date'].month for i in range(len(df)) )"
   ]
  },
  {
   "cell_type": "code",
   "execution_count": 89,
   "id": "61d1add4",
   "metadata": {},
   "outputs": [
    {
     "data": {
      "text/html": [
       "<div>\n",
       "<style scoped>\n",
       "    .dataframe tbody tr th:only-of-type {\n",
       "        vertical-align: middle;\n",
       "    }\n",
       "\n",
       "    .dataframe tbody tr th {\n",
       "        vertical-align: top;\n",
       "    }\n",
       "\n",
       "    .dataframe thead th {\n",
       "        text-align: right;\n",
       "    }\n",
       "</style>\n",
       "<table border=\"1\" class=\"dataframe\">\n",
       "  <thead>\n",
       "    <tr style=\"text-align: right;\">\n",
       "      <th></th>\n",
       "      <th>poi_cbg</th>\n",
       "      <th>dt</th>\n",
       "      <th>week</th>\n",
       "      <th>raw_visit_counts</th>\n",
       "      <th>dist_to_fire_m</th>\n",
       "      <th>poi_cnt</th>\n",
       "      <th>pop2019</th>\n",
       "      <th>date</th>\n",
       "      <th>month</th>\n",
       "    </tr>\n",
       "  </thead>\n",
       "  <tbody>\n",
       "    <tr>\n",
       "      <th>0</th>\n",
       "      <td>060290033051</td>\n",
       "      <td>2018-12-31</td>\n",
       "      <td>1</td>\n",
       "      <td>172</td>\n",
       "      <td>26615.41891</td>\n",
       "      <td>51</td>\n",
       "      <td>1393</td>\n",
       "      <td>2019-01-01</td>\n",
       "      <td>1</td>\n",
       "    </tr>\n",
       "    <tr>\n",
       "      <th>1</th>\n",
       "      <td>060290033051</td>\n",
       "      <td>2019-01-07</td>\n",
       "      <td>2</td>\n",
       "      <td>329</td>\n",
       "      <td>26615.41891</td>\n",
       "      <td>51</td>\n",
       "      <td>1393</td>\n",
       "      <td>2019-01-08</td>\n",
       "      <td>1</td>\n",
       "    </tr>\n",
       "    <tr>\n",
       "      <th>2</th>\n",
       "      <td>060290033051</td>\n",
       "      <td>2019-01-14</td>\n",
       "      <td>3</td>\n",
       "      <td>244</td>\n",
       "      <td>26615.41891</td>\n",
       "      <td>51</td>\n",
       "      <td>1393</td>\n",
       "      <td>2019-01-15</td>\n",
       "      <td>1</td>\n",
       "    </tr>\n",
       "    <tr>\n",
       "      <th>3</th>\n",
       "      <td>060290033051</td>\n",
       "      <td>2019-01-21</td>\n",
       "      <td>4</td>\n",
       "      <td>313</td>\n",
       "      <td>26615.41891</td>\n",
       "      <td>51</td>\n",
       "      <td>1393</td>\n",
       "      <td>2019-01-22</td>\n",
       "      <td>1</td>\n",
       "    </tr>\n",
       "    <tr>\n",
       "      <th>4</th>\n",
       "      <td>060290033051</td>\n",
       "      <td>2019-01-28</td>\n",
       "      <td>5</td>\n",
       "      <td>274</td>\n",
       "      <td>26615.41891</td>\n",
       "      <td>51</td>\n",
       "      <td>1393</td>\n",
       "      <td>2019-01-29</td>\n",
       "      <td>1</td>\n",
       "    </tr>\n",
       "  </tbody>\n",
       "</table>\n",
       "</div>"
      ],
      "text/plain": [
       "        poi_cbg          dt  week  raw_visit_counts  dist_to_fire_m  poi_cnt  \\\n",
       "0  060290033051  2018-12-31     1               172     26615.41891       51   \n",
       "1  060290033051  2019-01-07     2               329     26615.41891       51   \n",
       "2  060290033051  2019-01-14     3               244     26615.41891       51   \n",
       "3  060290033051  2019-01-21     4               313     26615.41891       51   \n",
       "4  060290033051  2019-01-28     5               274     26615.41891       51   \n",
       "\n",
       "   pop2019       date  month  \n",
       "0     1393 2019-01-01      1  \n",
       "1     1393 2019-01-08      1  \n",
       "2     1393 2019-01-15      1  \n",
       "3     1393 2019-01-22      1  \n",
       "4     1393 2019-01-29      1  "
      ]
     },
     "execution_count": 89,
     "metadata": {},
     "output_type": "execute_result"
    }
   ],
   "source": [
    "df.head()"
   ]
  },
  {
   "cell_type": "code",
   "execution_count": 90,
   "id": "15a5c936",
   "metadata": {},
   "outputs": [
    {
     "data": {
      "text/plain": [
       "(65020, 22)"
      ]
     },
     "execution_count": 90,
     "metadata": {},
     "output_type": "execute_result"
    }
   ],
   "source": [
    "df_500 = df.merge(LA_df, on = 'poi_cbg')\n",
    "df_500.shape"
   ]
  },
  {
   "cell_type": "code",
   "execution_count": 87,
   "id": "42817505",
   "metadata": {
    "scrolled": true
   },
   "outputs": [
    {
     "data": {
      "text/html": [
       "<div>\n",
       "<style scoped>\n",
       "    .dataframe tbody tr th:only-of-type {\n",
       "        vertical-align: middle;\n",
       "    }\n",
       "\n",
       "    .dataframe tbody tr th {\n",
       "        vertical-align: top;\n",
       "    }\n",
       "\n",
       "    .dataframe thead th {\n",
       "        text-align: right;\n",
       "    }\n",
       "</style>\n",
       "<table border=\"1\" class=\"dataframe\">\n",
       "  <thead>\n",
       "    <tr style=\"text-align: right;\">\n",
       "      <th></th>\n",
       "      <th>poi_cbg</th>\n",
       "      <th>month</th>\n",
       "      <th>week</th>\n",
       "      <th>raw_visit_counts</th>\n",
       "    </tr>\n",
       "  </thead>\n",
       "  <tbody>\n",
       "    <tr>\n",
       "      <th>0</th>\n",
       "      <td>060371851001</td>\n",
       "      <td>1</td>\n",
       "      <td>1</td>\n",
       "      <td>210</td>\n",
       "    </tr>\n",
       "    <tr>\n",
       "      <th>1</th>\n",
       "      <td>060371851001</td>\n",
       "      <td>1</td>\n",
       "      <td>2</td>\n",
       "      <td>300</td>\n",
       "    </tr>\n",
       "    <tr>\n",
       "      <th>2</th>\n",
       "      <td>060371851001</td>\n",
       "      <td>1</td>\n",
       "      <td>3</td>\n",
       "      <td>312</td>\n",
       "    </tr>\n",
       "    <tr>\n",
       "      <th>3</th>\n",
       "      <td>060371851001</td>\n",
       "      <td>1</td>\n",
       "      <td>4</td>\n",
       "      <td>312</td>\n",
       "    </tr>\n",
       "    <tr>\n",
       "      <th>4</th>\n",
       "      <td>060371851001</td>\n",
       "      <td>1</td>\n",
       "      <td>5</td>\n",
       "      <td>232</td>\n",
       "    </tr>\n",
       "    <tr>\n",
       "      <th>5</th>\n",
       "      <td>060371851001</td>\n",
       "      <td>2</td>\n",
       "      <td>6</td>\n",
       "      <td>195</td>\n",
       "    </tr>\n",
       "    <tr>\n",
       "      <th>6</th>\n",
       "      <td>060371851001</td>\n",
       "      <td>2</td>\n",
       "      <td>7</td>\n",
       "      <td>240</td>\n",
       "    </tr>\n",
       "    <tr>\n",
       "      <th>7</th>\n",
       "      <td>060371851001</td>\n",
       "      <td>2</td>\n",
       "      <td>8</td>\n",
       "      <td>205</td>\n",
       "    </tr>\n",
       "    <tr>\n",
       "      <th>8</th>\n",
       "      <td>060371851001</td>\n",
       "      <td>2</td>\n",
       "      <td>9</td>\n",
       "      <td>246</td>\n",
       "    </tr>\n",
       "    <tr>\n",
       "      <th>9</th>\n",
       "      <td>060371851001</td>\n",
       "      <td>3</td>\n",
       "      <td>10</td>\n",
       "      <td>208</td>\n",
       "    </tr>\n",
       "  </tbody>\n",
       "</table>\n",
       "</div>"
      ],
      "text/plain": [
       "        poi_cbg  month  week  raw_visit_counts\n",
       "0  060371851001      1     1               210\n",
       "1  060371851001      1     2               300\n",
       "2  060371851001      1     3               312\n",
       "3  060371851001      1     4               312\n",
       "4  060371851001      1     5               232\n",
       "5  060371851001      2     6               195\n",
       "6  060371851001      2     7               240\n",
       "7  060371851001      2     8               205\n",
       "8  060371851001      2     9               246\n",
       "9  060371851001      3    10               208"
      ]
     },
     "execution_count": 87,
     "metadata": {},
     "output_type": "execute_result"
    }
   ],
   "source": [
    "df_500.loc[:, ('poi_cbg', 'month', 'week', 'raw_visit_counts')]"
   ]
  },
  {
   "cell_type": "code",
   "execution_count": 91,
   "id": "ff53e0eb",
   "metadata": {},
   "outputs": [],
   "source": [
    "# Create tensor\n",
    "mobility_df_tensor = df_500.loc[:, ('poi_cbg', 'month', 'week', 'raw_visit_counts')]\n",
    "pd_tensor = mobility_df_tensor.set_index(['poi_cbg', 'month', 'week'])\n",
    "\n",
    "# remove duplicates (none found)\n",
    "duplicated_index_tensor = pd_tensor.index.duplicated(keep=\"first\")\n",
    "pd_tensor = pd_tensor[~duplicated_index_tensor]\n",
    "\n",
    "pd_tensor = pd_tensor.sort_index() # sort in order of poi_cbg, dt, dist_to_fire_m_bin\n",
    "\n",
    "xa_tensor = pd_tensor.to_xarray()\n",
    "\n",
    "np_tensor = xa_tensor.to_array().to_numpy() # to keep nan values\n",
    "np_tensor = np.squeeze(np_tensor)\n",
    "np_tensor = np.nan_to_num(np_tensor) # convert nan's to zeroes"
   ]
  },
  {
   "cell_type": "code",
   "execution_count": 93,
   "id": "a0245b0b",
   "metadata": {
    "scrolled": false
   },
   "outputs": [
    {
     "data": {
      "text/plain": [
       "(500, 12, 53)"
      ]
     },
     "execution_count": 93,
     "metadata": {},
     "output_type": "execute_result"
    }
   ],
   "source": [
    "np_tensor.shape\n",
    "#np_tensor"
   ]
  },
  {
   "cell_type": "code",
   "execution_count": 96,
   "id": "23615109",
   "metadata": {},
   "outputs": [],
   "source": [
    "# Create matrix\n",
    "mobility_df_matrix = df_500.loc[:, ('poi_cbg', 'dist_to_fire_m', 'poi_cnt', 'pop2019')]\n",
    "pd_matrix = mobility_df_matrix.set_index(['poi_cbg'])\n",
    "\n",
    "# remove duplicates\n",
    "dupe_index_matrix = pd_matrix.index.duplicated(keep=\"first\")\n",
    "pd_matrix = pd_matrix[~dupe_index_matrix]\n",
    "\n",
    "pd_matrix = pd_matrix.sort_index()\n",
    "xa_matrix = pd_matrix.to_xarray()\n",
    "\n",
    "np_matrix = xa_matrix.to_array().to_numpy()\n",
    "np_matrix = np.squeeze(np_matrix)\n",
    "np_matrix = np.nan_to_num(np_matrix)\n",
    "np_matrix = np_matrix.transpose()"
   ]
  },
  {
   "cell_type": "code",
   "execution_count": 97,
   "id": "42abec21",
   "metadata": {},
   "outputs": [
    {
     "data": {
      "text/plain": [
       "(500, 3)"
      ]
     },
     "execution_count": 97,
     "metadata": {},
     "output_type": "execute_result"
    }
   ],
   "source": [
    "np_matrix.shape"
   ]
  },
  {
   "cell_type": "markdown",
   "id": "63815372",
   "metadata": {},
   "source": [
    "### Saving tensor and matrix, and reloading them"
   ]
  },
  {
   "cell_type": "code",
   "execution_count": 100,
   "id": "e4e520bd",
   "metadata": {},
   "outputs": [],
   "source": [
    "# Unfold tensor\n",
    "np_tensor_unfolded = tl.unfold(np_tensor, 0) # shape is (500, 12, 53)"
   ]
  },
  {
   "cell_type": "code",
   "execution_count": 106,
   "id": "26d3876c",
   "metadata": {},
   "outputs": [
    {
     "data": {
      "text/plain": [
       "array([[  210.,   300.,   312., ...,   302.,   210.,   200.],\n",
       "       [ 1120.,  1364.,  1332., ...,  1503.,  1200.,   916.],\n",
       "       [   90.,   146.,   144., ...,   135.,   113.,   186.],\n",
       "       ...,\n",
       "       [ 1290.,  2052.,  1836., ...,  2026.,  1282.,  1202.],\n",
       "       [15545., 23437., 21945., ..., 19329., 11832., 13048.],\n",
       "       [ 2934.,  4061.,  3964., ...,  4062.,  3229.,  6374.]])"
      ]
     },
     "execution_count": 106,
     "metadata": {},
     "output_type": "execute_result"
    }
   ],
   "source": [
    "np_tensor_unfolded"
   ]
  },
  {
   "cell_type": "code",
   "execution_count": 107,
   "id": "d71e947b",
   "metadata": {},
   "outputs": [],
   "source": [
    "# Save unfolded tensor and matrix as csv files\n",
    "#np.savetxt('mobility_data_final_500_tensor.csv', np_tensor_unfolded, delimiter=',') # Saved\n",
    "#np.savetxt('mobility_data_final_500_matrix.csv', np_matrix, delimiter=',') # Saved"
   ]
  },
  {
   "cell_type": "code",
   "execution_count": 109,
   "id": "a6a05341",
   "metadata": {},
   "outputs": [],
   "source": [
    "# Loading tensor, matrix\n",
    "tensor_imported = np.loadtxt('mobility_data_final_500_tensor.csv', delimiter=\",\")\n",
    "matrix_imported = np.loadtxt('mobility_data_final_500_matrix.csv', delimiter=\",\")\n",
    "\n",
    "# Folding back into tensor\n",
    "mobility_tensor = tl.fold(tensor_imported, 0, (500, 12, 53))"
   ]
  },
  {
   "cell_type": "code",
   "execution_count": 110,
   "id": "d178dffe",
   "metadata": {},
   "outputs": [
    {
     "data": {
      "text/plain": [
       "(500, 12, 53)"
      ]
     },
     "execution_count": 110,
     "metadata": {},
     "output_type": "execute_result"
    }
   ],
   "source": [
    "mobility_tensor.shape"
   ]
  },
  {
   "cell_type": "markdown",
   "id": "f5b05e00",
   "metadata": {},
   "source": [
    "### Save selected CBG"
   ]
  },
  {
   "cell_type": "code",
   "execution_count": 127,
   "id": "c22f79ac",
   "metadata": {},
   "outputs": [],
   "source": [
    "cbg_list = df_500.loc[:, ('poi_cbg')]\n",
    "cbg_list = cbg_list.drop_duplicates().reset_index()\n",
    "cbg_list = cbg_list.drop(columns='index')\n",
    "\n",
    "# Save selected CBG\n",
    "#cbg_list.to_csv(\"cbg_500_list.csv\")"
   ]
  }
 ],
 "metadata": {
  "kernelspec": {
   "display_name": "Python 3 (ipykernel)",
   "language": "python",
   "name": "python3"
  },
  "language_info": {
   "codemirror_mode": {
    "name": "ipython",
    "version": 3
   },
   "file_extension": ".py",
   "mimetype": "text/x-python",
   "name": "python",
   "nbconvert_exporter": "python",
   "pygments_lexer": "ipython3",
   "version": "3.11.0"
  }
 },
 "nbformat": 4,
 "nbformat_minor": 5
}
